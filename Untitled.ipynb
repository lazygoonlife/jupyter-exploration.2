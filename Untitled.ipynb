{
 "cells": [
  {
   "cell_type": "code",
   "execution_count": null,
   "id": "fc111077-e6e8-43d6-92cc-462bb2ce5cca",
   "metadata": {},
   "outputs": [],
   "source": [
    "\"Markdown.\""
   ]
  },
  {
   "cell_type": "code",
   "execution_count": null,
   "id": "a2e3a1a8-ac41-46e7-a478-5d4425595e3e",
   "metadata": {},
   "outputs": [],
   "source": [
    "print(hello world)"
   ]
  }
 ],
 "metadata": {
  "kernelspec": {
   "display_name": "Python 3 (ipykernel)",
   "language": "python",
   "name": "python3"
  },
  "language_info": {
   "codemirror_mode": {
    "name": "ipython",
    "version": 3
   },
   "file_extension": ".py",
   "mimetype": "text/x-python",
   "name": "python",
   "nbconvert_exporter": "python",
   "pygments_lexer": "ipython3",
   "version": "3.12.11"
  }
 },
 "nbformat": 4,
 "nbformat_minor": 5
}
